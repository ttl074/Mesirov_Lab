{
 "cells": [
  {
   "cell_type": "code",
   "execution_count": 42,
   "id": "4269f680",
   "metadata": {},
   "outputs": [],
   "source": [
    "#1\n",
    "#reading in libraries required\n",
    "import numpy as np\n",
    "import pandas as pd\n",
    "#takes in GCT and optional boolean value\n",
    "def read_GCT(GCT,*args):\n",
    "    #makes panda dataframe frame from gct delimited by tabs; skip first two rows\n",
    "    df = pd.read_table(GCT,delimiter='\\t',skiprows=2)\n",
    "    # if there is a secondary value passed in if true print rows and columns; differs by two from GCT because it only includes first two rows\n",
    "    if len(args)>0:\n",
    "        if args[0] is True:\n",
    "            print(len(df))\n",
    "            print(len(df.columns)) \n",
    "    return df"
   ]
  },
  {
   "cell_type": "code",
   "execution_count": 60,
   "id": "5805a814",
   "metadata": {},
   "outputs": [
    {
     "name": "stdout",
     "output_type": "stream",
     "text": [
      "60\n",
      "21\n"
     ]
    }
   ],
   "source": [
    "#2\n",
    "BRCA = 'BRCA_minimal_60x19.gct'\n",
    "small = read_GCT(BRCA,True)"
   ]
  },
  {
   "cell_type": "code",
   "execution_count": 61,
   "id": "ee73e4cf",
   "metadata": {},
   "outputs": [],
   "source": [
    "#2b\n",
    "large = 'BRCA_large_20783x40.gct'\n",
    "big = read_GCT(large)"
   ]
  },
  {
   "cell_type": "code",
   "execution_count": 131,
   "id": "b0405f78",
   "metadata": {
    "scrolled": true
   },
   "outputs": [
    {
     "data": {
      "image/png": "[encoded data removed]",
      "text/plain": [
       "<Figure size 432x288 with 4 Axes>"
      ]
     },
     "metadata": {
      "needs_background": "light"
     },
     "output_type": "display_data"
    }
   ],
   "source": [
    "#3 \n",
    "#using pyplot\n",
    "import matplotlib\n",
    "import matplotlib.pyplot as plt\n",
    "#make list of samples\n",
    "def plot4Samples(sample):\n",
    "    cols = ['A7-A0DB-normal','A7-A13E-normal', 'BH-A0B3-primary','BH-A0B5-primary']\n",
    "    # use subplots to plot all at once\n",
    "    figure, axis = plt.subplots(2, 2)   \n",
    "    #index to keep track of which sample\n",
    "    index = 0\n",
    "    for i in range(2):\n",
    "        for j in range(2):\n",
    "            #without setting x and y limits it just appears as one single bar\n",
    "            axis[i,j].hist(sample[cols[index]],50)\n",
    "            axis[i,j].set_xlim(0,100000)\n",
    "            axis[i,j].set_ylim(0,1000)\n",
    "            axis[i,j].set_title(cols[index])\n",
    "            index = index +1\n",
    "    #formatting\n",
    "    figure.tight_layout()\n",
    "    plt.show\n",
    "plot4Samples(big)"
   ]
  },
  {
   "cell_type": "code",
   "execution_count": 126,
   "id": "8495f989",
   "metadata": {
    "scrolled": true
   },
   "outputs": [
    {
     "name": "stdout",
     "output_type": "stream",
     "text": [
      "       Sample name:         Mean  Median  Standard Deviations\n",
      "0    A7-A0CE-normal  3308.877255   814.0         12725.225360\n",
      "1    A7-A0CH-normal  3046.316942   630.0         14145.110877\n",
      "2    A7-A0D9-normal  2628.131550   350.0         17826.962614\n",
      "3    A7-A0DB-normal  2354.674445   362.0         13973.578219\n",
      "4    A7-A13E-normal  2380.702593   427.0         13373.175053\n",
      "5    A7-A13F-normal  2493.380215   527.0         12477.292199\n",
      "6    A7-A13G-normal  3509.542463   454.0         30473.930420\n",
      "7    AC-A23H-normal  3396.675312   659.0         20073.372089\n",
      "8    AC-A2FB-normal  3675.583169   792.0         15577.602082\n",
      "9    AC-A2FF-normal  3743.660492   935.0         14826.656271\n",
      "10   AC-A2FM-normal  2714.893663   578.0         11431.197617\n",
      "11   BH-A0AU-normal  2436.466679   641.0          8961.141637\n",
      "12   BH-A0AY-normal  2412.727951   567.0          9362.166744\n",
      "13   BH-A0AZ-normal  3216.765337   836.0         10744.247026\n",
      "14   BH-A0B3-normal  2879.876149   772.0          9737.474286\n",
      "15   BH-A0B5-normal  3129.721455   358.0         26252.629141\n",
      "16   BH-A0B7-normal  2337.598326   599.0          8270.307457\n",
      "17   BH-A0B8-normal  2765.395516   382.0         18275.877415\n",
      "18   BH-A0BA-normal  2185.575615   514.0          8347.554132\n",
      "19   BH-A0Bc-normal  2430.835442   530.0         11220.075681\n",
      "20  A7-A0CE-primary  3093.171727   572.0         12844.319150\n",
      "21  A7-A0CH-primary  2263.303710   448.0          9375.667156\n",
      "22  A7-A0D9-primary  2665.603955   501.0         11774.884279\n",
      "23  A7-A0DB-primary  2976.440264   549.0         16151.600567\n",
      "24  A7-A13E-primary  2374.867536   442.0          9410.085146\n",
      "25  A7-A13F-primary  2645.118558   438.0         11856.985587\n",
      "26  A7-A13G-primary  2329.392484   482.0         43203.689686\n",
      "27  AC-A23H-primary  3557.638214   564.0         14992.223248\n",
      "28  AC-A2FB-primary  3278.797479   695.0         13427.401627\n",
      "29  AC-A2FF-primary  3343.041139   768.0         15631.767766\n",
      "30  AC-A2FM-primary  2925.067796   553.0          9895.467621\n",
      "31  BH-A0AU-primary  2413.002021   459.0         11393.826847\n",
      "32  BH-A0AY-primary  2623.129529   445.0         18782.004719\n",
      "33  BH-A0AZ-primary  2444.804167   449.0         19837.185461\n",
      "34  BH-A0B3-primary  2899.012414   532.0         14901.548853\n",
      "35  BH-A0B5-primary  2852.137083   688.0         10702.438448\n",
      "36  BH-A0B7-primary  2928.838762   597.0         12359.293785\n",
      "37  BH-A0B8-primary  2301.436126   408.0         12408.226832\n",
      "38  BH-A0BA-primary  2759.036280   639.0         10918.193416\n",
      "39  BH-A0BC-primary  3408.017803   692.0         14792.676713\n"
     ]
    }
   ],
   "source": [
    "#4 \n",
    "#function to get a list of mean, median, and standard deviation\n",
    "def getStats(samples,means,medians,sds):\n",
    "    for s in samples.keys():\n",
    "        means.append(np.mean(samples[s]))\n",
    "        medians.append(np.median(samples[s]))\n",
    "        sds.append(np.std(samples[s]))\n",
    "#taking out the first two columns\n",
    "samples = big.loc[:,'A7-A0CE-normal':'BH-A0BC-primary']\n",
    "means = []\n",
    "medians = []\n",
    "sds = []\n",
    "getStats(samples,means,medians,sds)\n",
    "stats = pd.DataFrame(\n",
    "    {\n",
    "        \"Sample name:\": samples.keys(),\n",
    "        \"Mean\" : means,\n",
    "        \"Median\": medians,\n",
    "        \"Standard Deviations\": sds\n",
    "    }\n",
    ")\n",
    "print(stats)"
   ]
  },
  {
   "cell_type": "code",
   "execution_count": 134,
   "id": "6c0a4771",
   "metadata": {},
   "outputs": [
    {
     "name": "stdout",
     "output_type": "stream",
     "text": [
      "       Sample name:         Mean  Median\n",
      "0    A7-A0CE-normal  1483.952256   566.5\n",
      "1    A7-A0CH-normal  1226.842654   440.5\n",
      "2    A7-A0D9-normal   958.923439   245.0\n",
      "3    A7-A0DB-normal   915.061698   256.0\n",
      "4    A7-A13E-normal   951.364467   296.0\n",
      "5    A7-A13F-normal  1040.999251   372.5\n",
      "6    A7-A13G-normal  1281.722145   320.0\n",
      "7    AC-A23H-normal  1381.503903   460.0\n",
      "8    AC-A2FB-normal  1550.663013   554.0\n",
      "9    AC-A2FF-normal  1737.988398   667.0\n",
      "10   AC-A2FM-normal  1189.578593   410.0\n",
      "11   BH-A0AU-normal  1223.027534   460.0\n",
      "12   BH-A0AY-normal  1074.948193   399.0\n",
      "13   BH-A0AZ-normal  1621.079288   595.0\n",
      "14   BH-A0B3-normal  1434.160928   551.0\n",
      "15   BH-A0B5-normal  1091.059613   238.0\n",
      "16   BH-A0B7-normal  1184.856929   424.5\n",
      "17   BH-A0B8-normal  1040.875160   259.0\n",
      "18   BH-A0BA-normal   986.037799   367.5\n",
      "19   BH-A0Bc-normal  1024.975888   378.0\n",
      "20  A7-A0CE-primary  1458.018820   396.0\n",
      "21  A7-A0CH-primary  1075.177021   306.0\n",
      "22  A7-A0D9-primary  1265.841424   350.0\n",
      "23  A7-A0DB-primary  1238.317151   358.0\n",
      "24  A7-A13E-primary  1211.966371   307.0\n",
      "25  A7-A13F-primary  1176.751176   294.5\n",
      "26  A7-A13G-primary  1037.984442   396.0\n",
      "27  AC-A23H-primary  1657.330838   382.0\n",
      "28  AC-A2FB-primary  1484.231074   494.5\n",
      "29  AC-A2FF-primary  1482.230432   535.0\n",
      "30  AC-A2FM-primary  1512.691724   390.0\n",
      "31  BH-A0AU-primary  1134.328379   315.0\n",
      "32  BH-A0AY-primary  1035.985832   299.5\n",
      "33  BH-A0AZ-primary   957.272615   311.0\n",
      "34  BH-A0B3-primary  1276.470113   366.5\n",
      "35  BH-A0B5-primary  1433.533522   484.0\n",
      "36  BH-A0B7-primary  1324.123450   416.0\n",
      "37  BH-A0B8-primary  1024.696696   280.0\n",
      "38  BH-A0BA-primary  1367.002139   435.0\n",
      "39  BH-A0BC-primary  1523.742248   466.5\n"
     ]
    },
    {
     "data": {
      "image/png": "[encoded data removed]",
      "text/plain": [
       "<Figure size 432x288 with 4 Axes>"
      ]
     },
     "metadata": {
      "needs_background": "light"
     },
     "output_type": "display_data"
    }
   ],
   "source": [
    "#5 \n",
    "#to make a deep copy of samples\n",
    "import copy\n",
    "samples2 = copy.deepcopy(samples)\n",
    "sd = []\n",
    "#getting standard deviation of each row\n",
    "for i in range(1,len(samples2)):\n",
    "    sd.append((np.std(samples2.iloc[i]),i))\n",
    "#sort by standard deviation\n",
    "sd.sort()\n",
    "#getting index of 90th percentile\n",
    "upper = int(0.9*len(sd))\n",
    "#remove from sorted list 90th percentile\n",
    "for j in range(upper,len(sd)):\n",
    "    samples2.drop(sd[j][1],inplace=True)\n",
    "means2 = []\n",
    "medians2 = []\n",
    "sds2 = []\n",
    "getStats(samples2,means2,medians2,sds2)\n",
    "stats2 = pd.DataFrame(\n",
    "    {\n",
    "        \"Sample name:\": samples2.keys(),\n",
    "        \"Mean\" : means2,\n",
    "        \"Median\": medians2,\n",
    "    }\n",
    ")\n",
    "print(stats2)\n",
    "plot4Samples(samples2)"
   ]
  },
  {
   "cell_type": "code",
   "execution_count": null,
   "id": "776b02ce",
   "metadata": {},
   "outputs": [],
   "source": []
  }
 ],
 "metadata": {
  "kernelspec": {
   "display_name": "Python 3",
   "language": "python",
   "name": "python3"
  },
  "language_info": {
   "codemirror_mode": {
    "name": "ipython",
    "version": 3
   },
   "file_extension": ".py",
   "mimetype": "text/x-python",
   "name": "python",
   "nbconvert_exporter": "python",
   "pygments_lexer": "ipython3",
   "version": "3.9.2"
  },
  "toc": {
   "base_numbering": 1,
   "nav_menu": {},
   "number_sections": false,
   "sideBar": true,
   "skip_h1_title": false,
   "title_cell": "Table of Contents",
   "title_sidebar": "Contents",
   "toc_cell": false,
   "toc_position": {},
   "toc_section_display": true,
   "toc_window_display": false
  }
 },
 "nbformat": 4,
 "nbformat_minor": 5
}
